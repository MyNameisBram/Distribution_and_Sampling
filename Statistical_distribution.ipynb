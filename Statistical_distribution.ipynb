{
 "cells": [
  {
   "cell_type": "markdown",
   "metadata": {},
   "source": [
    "# Statistical Distribution \n",
    "\n",
    "According to [MathWorld](http://mathworld.wolfram.com/StatisticalDistribution.html), *The distribution of a variable is a description of the relative numbers of times each possible outcome will occur in a number of trials.* Let me help and try to break this down. \n",
    "\n",
    "These are the some of the most common distributions: \n",
    "1. Uniform Distribution \n",
    "2. Binomial Distribution \n",
    "3. Normal Distribution \n",
    "\n",
    "These statistical distributions informs us about the distribution of probability of an event happening given a set of parameters. Distributions can either be **Continuous** or **Discrete**. \n",
    "\n",
    "### Continuos Distribution:\n",
    "We're measuring an event with any real number. Example, height. A person can be 5'9\" or 5'10\", and it can also be any number in between those. We can measure up to a level of precision of our choosing. \n",
    "\n",
    "### Discrete Distribution: \n",
    "These events are often called *Bernoulli Trials*, where the outcome is binary and fractions/decimals are not allowed. A good example of this is a coin flip. The coin can either land on heads or it doesn't. \n",
    "\n",
    "# Uniform Distribution\n",
    "\n"
   ]
  },
  {
   "cell_type": "code",
   "execution_count": null,
   "metadata": {},
   "outputs": [],
   "source": []
  }
 ],
 "metadata": {
  "kernelspec": {
   "display_name": "Python 3",
   "language": "python",
   "name": "python3"
  },
  "language_info": {
   "codemirror_mode": {
    "name": "ipython",
    "version": 3
   },
   "file_extension": ".py",
   "mimetype": "text/x-python",
   "name": "python",
   "nbconvert_exporter": "python",
   "pygments_lexer": "ipython3",
   "version": "3.6.6"
  }
 },
 "nbformat": 4,
 "nbformat_minor": 2
}
